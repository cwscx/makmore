{
  "nbformat": 4,
  "nbformat_minor": 0,
  "metadata": {
    "colab": {
      "provenance": [],
      "authorship_tag": "ABX9TyN1Lc7mUMKwnD9mhGoicnSZ",
      "include_colab_link": true
    },
    "kernelspec": {
      "name": "python3",
      "display_name": "Python 3"
    },
    "language_info": {
      "name": "python"
    }
  },
  "cells": [
    {
      "cell_type": "markdown",
      "metadata": {
        "id": "view-in-github",
        "colab_type": "text"
      },
      "source": [
        "<a href=\"https://colab.research.google.com/github/cwscx/makmore/blob/main/build_makemore_mlp2.ipynb\" target=\"_parent\"><img src=\"https://colab.research.google.com/assets/colab-badge.svg\" alt=\"Open In Colab\"/></a>"
      ]
    },
    {
      "cell_type": "code",
      "execution_count": 137,
      "metadata": {
        "id": "LchPgdD9g_Ok"
      },
      "outputs": [],
      "source": [
        "import torch\n",
        "import torch.nn.functional as F\n",
        "import matplotlib.pyplot as plt\n",
        "%matplotlib inline"
      ]
    },
    {
      "cell_type": "code",
      "source": [
        "# from google.colab import files\n",
        "# uploaded = files.upload()"
      ],
      "metadata": {
        "id": "PkR9lWfvhxoG"
      },
      "execution_count": 138,
      "outputs": []
    },
    {
      "cell_type": "code",
      "source": [
        "words: list[str] = open('names.txt', 'r').read().splitlines()"
      ],
      "metadata": {
        "id": "DDskstBIh3pS"
      },
      "execution_count": 139,
      "outputs": []
    },
    {
      "cell_type": "code",
      "source": [
        "stoi: dict[str, int] = {c:i for i, c in enumerate('.abcdefghijklmnopqrstuvwxyz')}\n",
        "itos: dict[int, str] = {i:c for c, i in stoi.items()}"
      ],
      "metadata": {
        "id": "zEo0hT2kio8_"
      },
      "execution_count": 140,
      "outputs": []
    },
    {
      "cell_type": "code",
      "source": [
        "block_size = 3\n",
        "\n",
        "def build_dataset(words: list[str]) -> tuple[torch.Tensor, torch.Tensor]:\n",
        "  inputs_list: list[list[int]] = []\n",
        "  labels_list: list[int] = []\n",
        "\n",
        "  for w in words:\n",
        "    inputs: list[int] = [0] * block_size\n",
        "    for c in w + '.':\n",
        "      index: int = stoi[c]\n",
        "      inputs_list.append(inputs)\n",
        "      labels_list.append(index)\n",
        "      inputs = inputs[1:] + [index]\n",
        "\n",
        "  return torch.tensor(inputs_list), torch.tensor(labels_list)\n",
        "\n",
        "import random\n",
        "random.seed(42)\n",
        "random.shuffle(words)\n",
        "threshold1: int = int(0.8 * len(words))\n",
        "threshold2: int = int(0.9 * len(words))\n",
        "\n",
        "training_x, training_y = build_dataset(words[:threshold1])\n",
        "validation_x, validation_y = build_dataset(words[threshold1:threshold2])\n",
        "test_x, test_y = build_dataset(words[threshold2:])\n"
      ],
      "metadata": {
        "id": "7ifqBaxSi42A"
      },
      "execution_count": 141,
      "outputs": []
    },
    {
      "cell_type": "code",
      "source": [
        "g = torch.Generator().manual_seed(2147483647)\n",
        "\n",
        "vocab_size = len(itos)\n",
        "embedding = 10\n",
        "hidden = 200\n",
        "\n",
        "C = torch.randn((vocab_size, embedding), generator=g)\n",
        "W1 = torch.randn((block_size * embedding, hidden), generator=g) * 0.2\n",
        "b1 = torch.randn((hidden), generator=g) * 0.01\n",
        "W2 = torch.randn((hidden, vocab_size), generator=g) * 0.01\n",
        "b2 = torch.randn(vocab_size, generator=g) * 0\n",
        "\n",
        "parameters = [C, W1, b1, W2, b2]\n",
        "\n",
        "for p in parameters:\n",
        "  p.requires_grad = True"
      ],
      "metadata": {
        "id": "gBDsNZLTs5be"
      },
      "execution_count": 219,
      "outputs": []
    },
    {
      "cell_type": "code",
      "source": [
        "max_steps = 200000\n",
        "batch_size = 32\n",
        "losses = []\n",
        "\n",
        "for i in range(max_steps):\n",
        "  batches = torch.randint(0, high=len(training_x), size=(batch_size,), generator=g)\n",
        "  training_x_batch = training_x[batches]\n",
        "  training_y_batch = training_y[batches]\n",
        "  embedding = C[training_x_batch]\n",
        "  h1 = embedding.view(embedding.shape[0], -1) @ W1 + b1\n",
        "  # d tanh / dx = (1 - t**2) * out_grad.\n",
        "  # t = (e^2x - 1) / (e^2x + 1)\n",
        "  # if t = 1 or -1 or close, the grad will become almost 0.\n",
        "  a1 = torch.tanh(h1)\n",
        "  logits = h1 @ W2 + b2\n",
        "  loss = F.cross_entropy(logits, training_y_batch)\n",
        "\n",
        "  for p in parameters:\n",
        "    p.grad = None\n",
        "\n",
        "  loss.backward()\n",
        "\n",
        "  lr = 0.1 if i < max_steps / 2 else 0.01\n",
        "  for p in parameters:\n",
        "    p.data -= lr * p.grad\n",
        "\n",
        "  if i % 10000 == 0:\n",
        "    print(f'{i:7d}/{max_steps:7d}: {loss.item():.4f}')\n",
        "  losses.append(loss.log10().item())\n",
        "\n",
        "  # break"
      ],
      "metadata": {
        "colab": {
          "base_uri": "https://localhost:8080/"
        },
        "id": "UoCRKjOevywL",
        "outputId": "1501d13b-fdf7-4f65-fdea-beac8c5b481c"
      },
      "execution_count": 220,
      "outputs": [
        {
          "output_type": "stream",
          "name": "stdout",
          "text": [
            "      0/ 200000: 3.3281\n",
            "  10000/ 200000: 2.2658\n",
            "  20000/ 200000: 2.4549\n",
            "  30000/ 200000: 2.5870\n",
            "  40000/ 200000: 2.0670\n",
            "  50000/ 200000: 2.6195\n",
            "  60000/ 200000: 2.4372\n",
            "  70000/ 200000: 2.2305\n",
            "  80000/ 200000: 2.3998\n",
            "  90000/ 200000: 2.1963\n",
            " 100000/ 200000: 2.2078\n",
            " 110000/ 200000: 2.3932\n",
            " 120000/ 200000: 2.0874\n",
            " 130000/ 200000: 2.4410\n",
            " 140000/ 200000: 2.6016\n",
            " 150000/ 200000: 2.4528\n",
            " 160000/ 200000: 2.1866\n",
            " 170000/ 200000: 2.0477\n",
            " 180000/ 200000: 2.4291\n",
            " 190000/ 200000: 2.1907\n"
          ]
        }
      ]
    },
    {
      "cell_type": "code",
      "source": [
        "-torch.tensor(1/27.0).log() # expected negative log possibility"
      ],
      "metadata": {
        "colab": {
          "base_uri": "https://localhost:8080/"
        },
        "id": "Cb1Eeoue7keQ",
        "outputId": "3ddf2597-9497-4719-da69-46458b18e429"
      },
      "execution_count": 183,
      "outputs": [
        {
          "output_type": "execute_result",
          "data": {
            "text/plain": [
              "tensor(3.2958)"
            ]
          },
          "metadata": {},
          "execution_count": 183
        }
      ]
    },
    {
      "cell_type": "code",
      "source": [
        "plt.plot(losses)"
      ],
      "metadata": {
        "colab": {
          "base_uri": "https://localhost:8080/",
          "height": 448
        },
        "id": "JvmoicO0y7XB",
        "outputId": "2c815adc-0e18-4c11-e18b-e6a0a92fc5d3"
      },
      "execution_count": 191,
      "outputs": [
        {
          "output_type": "execute_result",
          "data": {
            "text/plain": [
              "[<matplotlib.lines.Line2D at 0x79862ee136b0>]"
            ]
          },
          "metadata": {},
          "execution_count": 191
        },
        {
          "output_type": "display_data",
          "data": {
            "text/plain": [
              "<Figure size 640x480 with 1 Axes>"
            ],
            "image/png": "[encoded data removed]"
          },
          "metadata": {}
        }
      ]
    },
    {
      "cell_type": "code",
      "source": [
        "plt.hist(h1.view(-1).tolist(), 50);"
      ],
      "metadata": {
        "colab": {
          "base_uri": "https://localhost:8080/",
          "height": 430
        },
        "id": "TZ3jfDZ6EBZp",
        "outputId": "9e5b50ee-c2bf-4a44-b960-052ebea98518"
      },
      "execution_count": 212,
      "outputs": [
        {
          "output_type": "display_data",
          "data": {
            "text/plain": [
              "<Figure size 640x480 with 1 Axes>"
            ],
            "image/png": "[encoded data removed]"
          },
          "metadata": {}
        }
      ]
    },
    {
      "cell_type": "code",
      "source": [
        "plt.hist(a1.view(-1).tolist(), 50);"
      ],
      "metadata": {
        "colab": {
          "base_uri": "https://localhost:8080/",
          "height": 430
        },
        "id": "WOG30RZxEjb0",
        "outputId": "f7f7a5a3-5713-4293-b8ab-8b496cb6e10e"
      },
      "execution_count": 213,
      "outputs": [
        {
          "output_type": "display_data",
          "data": {
            "text/plain": [
              "<Figure size 640x480 with 1 Axes>"
            ],
            "image/png": "[encoded data removed]"
          },
          "metadata": {}
        }
      ]
    },
    {
      "cell_type": "code",
      "source": [
        "plt.figure(figsize=(20, 10))\n",
        "# white is true. black is false.\n",
        "plt.imshow(h1.abs() > 0.99, cmap=\"gray\", interpolation=\"nearest\")"
      ],
      "metadata": {
        "colab": {
          "base_uri": "https://localhost:8080/",
          "height": 164
        },
        "id": "x47D-EBKX2ak",
        "outputId": "433b0607-c25e-48c3-a4b7-d28c5d7b22ad"
      },
      "execution_count": 214,
      "outputs": [
        {
          "output_type": "execute_result",
          "data": {
            "text/plain": [
              "<matplotlib.image.AxesImage at 0x79862f6f33b0>"
            ]
          },
          "metadata": {},
          "execution_count": 214
        },
        {
          "output_type": "display_data",
          "data": {
            "text/plain": [
              "<Figure size 2000x1000 with 1 Axes>"
            ],
            "image/png": "[encoded data removed]"
          },
          "metadata": {}
        }
      ]
    },
    {
      "cell_type": "code",
      "source": [
        "@torch.no_grad() # disable gradient tracking to make method faster.\n",
        "def split_loss(split):\n",
        "  x, y = {\n",
        "      'train': (training_x, training_y),\n",
        "      'val': (validation_x, validation_y),\n",
        "      'test': (test_x, test_y),\n",
        "  }[split]\n",
        "  emb = C[x]\n",
        "  h = torch.tanh(emb.view(x.shape[0], -1) @ W1 + b1)\n",
        "  logits = h @ W2 + b2\n",
        "  loss = F.cross_entropy(logits, y)\n",
        "  print(split, loss.item())\n",
        "\n",
        "split_loss('val')\n",
        "split_loss('test')"
      ],
      "metadata": {
        "colab": {
          "base_uri": "https://localhost:8080/"
        },
        "id": "gRSVvg5E2MLH",
        "outputId": "df2e25b1-217c-4648-ed36-1a4acf74e2d2"
      },
      "execution_count": 221,
      "outputs": [
        {
          "output_type": "stream",
          "name": "stdout",
          "text": [
            "val 2.308946371078491\n",
            "test 2.3087363243103027\n"
          ]
        }
      ]
    },
    {
      "cell_type": "code",
      "source": [
        "g = torch.Generator().manual_seed(2147483647 + 10)\n",
        "\n",
        "for i in range(20):\n",
        "  out = []\n",
        "  inputs = [0] * block_size\n",
        "\n",
        "  while True:\n",
        "    h = torch.tanh(C[torch.tensor(inputs)].view(1,-1) @ W1 + b1)\n",
        "    logits = h @ W2 + b2\n",
        "    probs = F.softmax(logits, dim=1)\n",
        "    index = torch.multinomial(probs, num_samples=1, generator=g).item()\n",
        "    inputs = inputs[1:] + [index]\n",
        "    out.append(index)\n",
        "    if (index == 0):\n",
        "      break\n",
        "\n",
        "  print(''.join(itos[i] for i in out))"
      ],
      "metadata": {
        "colab": {
          "base_uri": "https://localhost:8080/"
        },
        "id": "dfax5Yro6fLB",
        "outputId": "47ed9fab-460f-45a0-c5ea-f185d17ddd98"
      },
      "execution_count": 154,
      "outputs": [
        {
          "output_type": "stream",
          "name": "stdout",
          "text": [
            "carman.\n",
            "amille.\n",
            "khyrmyn.\n",
            "reet.\n",
            "khalayane.\n",
            "mahnen.\n",
            "deliah.\n",
            "jareei.\n",
            "nellara.\n",
            "chaiivon.\n",
            "legen.\n",
            "ham.\n",
            "jorn.\n",
            "quintin.\n",
            "lilea.\n",
            "jadiquinterri.\n",
            "jarysia.\n",
            "kael.\n",
            "dustine.\n",
            "deciia.\n"
          ]
        }
      ]
    },
    {
      "cell_type": "code",
      "source": [
        ""
      ],
      "metadata": {
        "id": "w1pGJWrd6ksu"
      },
      "execution_count": null,
      "outputs": []
    }
  ]
}