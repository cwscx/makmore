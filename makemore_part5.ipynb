{
  "nbformat": 4,
  "nbformat_minor": 0,
  "metadata": {
    "colab": {
      "provenance": [],
      "authorship_tag": "ABX9TyP/J9WCzE77q+59ywCUGhpM",
      "include_colab_link": true
    },
    "kernelspec": {
      "name": "python3",
      "display_name": "Python 3"
    },
    "language_info": {
      "name": "python"
    }
  },
  "cells": [
    {
      "cell_type": "markdown",
      "metadata": {
        "id": "view-in-github",
        "colab_type": "text"
      },
      "source": [
        "<a href=\"https://colab.research.google.com/github/cwscx/makmore/blob/main/makemore_part5.ipynb\" target=\"_parent\"><img src=\"https://colab.research.google.com/assets/colab-badge.svg\" alt=\"Open In Colab\"/></a>"
      ]
    },
    {
      "cell_type": "code",
      "execution_count": 1,
      "metadata": {
        "id": "IYqa2cMDaGhA"
      },
      "outputs": [],
      "source": [
        "import torch\n",
        "import torch.nn.functional as F\n",
        "import matplotlib.pyplot as plt\n",
        "%matplotlib inline"
      ]
    },
    {
      "cell_type": "code",
      "source": [
        "# from google.colab import files\n",
        "# uploaded = files.upload()"
      ],
      "metadata": {
        "id": "ijjiZ5HyaQiF"
      },
      "execution_count": 2,
      "outputs": []
    },
    {
      "cell_type": "code",
      "source": [
        "words: list[str] = open('names.txt', 'r').read().splitlines()"
      ],
      "metadata": {
        "id": "N238Ij7jaRo-"
      },
      "execution_count": 3,
      "outputs": []
    },
    {
      "cell_type": "code",
      "source": [
        "stoi: dict[str, int] = {c:i for i, c in enumerate('.abcdefghijklmnopqrstuvwxyz')}\n",
        "itos: dict[int, str] = {i:c for c, i in stoi.items()}\n",
        "vocab_size = len(stoi)"
      ],
      "metadata": {
        "id": "w5E9APkBaWVQ"
      },
      "execution_count": 4,
      "outputs": []
    },
    {
      "cell_type": "code",
      "source": [
        "import random\n",
        "random.seed(42)\n",
        "random.shuffle(words)"
      ],
      "metadata": {
        "id": "OTpTjf2saXj7"
      },
      "execution_count": 5,
      "outputs": []
    },
    {
      "cell_type": "code",
      "source": [
        "block_size = 8\n",
        "\n",
        "def build_dataset(words: list[str]) -> tuple[torch.Tensor, torch.Tensor]:\n",
        "  inputs_list: list[list[int]] = []\n",
        "  labels_list: list[int] = []\n",
        "\n",
        "  for w in words:\n",
        "    inputs: list[int] = [0] * block_size\n",
        "    for c in w + '.':\n",
        "      index: int = stoi[c]\n",
        "      inputs_list.append(inputs)\n",
        "      labels_list.append(index)\n",
        "      inputs = inputs[1:] + [index]\n",
        "\n",
        "  return torch.tensor(inputs_list), torch.tensor(labels_list)\n",
        "\n",
        "threshold1: int = int(0.8 * len(words))\n",
        "threshold2: int = int(0.9 * len(words))\n",
        "\n",
        "training_x, training_y = build_dataset(words[:threshold1])\n",
        "validation_x, validation_y = build_dataset(words[threshold1:threshold2])\n",
        "test_x, test_y = build_dataset(words[threshold2:])"
      ],
      "metadata": {
        "id": "lqVFTfq1abDy"
      },
      "execution_count": 56,
      "outputs": []
    },
    {
      "cell_type": "code",
      "source": [
        "from math import nan\n",
        "\n",
        "class Linear:\n",
        "\n",
        "  def __init__(self, fan_in: int, fan_out: int, bias: bool=True) -> None:\n",
        "    self.weight: torch.Tensor = torch.randn((fan_in, fan_out)) / fan_in ** 0.5\n",
        "    self.bias: torch.Tensor | None = torch.zeros(fan_out) if bias else None\n",
        "\n",
        "  def __call__(self, x: torch.Tensor) -> torch.Tensor:\n",
        "    self.out: torch.Tensor = x @ self.weight\n",
        "    if self.bias is not None:\n",
        "      self.out += self.bias\n",
        "    return self.out\n",
        "\n",
        "  def parameters(self) -> list[torch.Tensor]:\n",
        "    return [self.weight] + ([] if self.bias is None else [self.bias])\n",
        "\n",
        "\n",
        "class BatchNorm1d:\n",
        "\n",
        "  def __init__(self, dim: int, eps: float=1e-5, momentum: float=0.1) -> None:\n",
        "    self.eps = eps\n",
        "    self.momentum = momentum\n",
        "    self.training = True\n",
        "    # parameters.\n",
        "    self.gamma = torch.ones(dim)\n",
        "    self.beta = torch.zeros(dim)\n",
        "    # buffers\n",
        "    self.running_mean = torch.zeros(dim)\n",
        "    self.running_var = torch.ones(dim)\n",
        "\n",
        "  def __call__(self, x: torch.Tensor) -> torch.Tensor:\n",
        "    if (self.training):\n",
        "      if x.ndim == 2:\n",
        "        dim = 0\n",
        "      elif x.ndim == 3:\n",
        "        dim = (0, 1)\n",
        "\n",
        "      x_mean = x.mean(dim, keepdim=True)\n",
        "      x_var = x.var(dim, keepdim=True, unbiased=True)\n",
        "    else:\n",
        "      x_mean = self.running_mean\n",
        "      x_var = self.running_var\n",
        "\n",
        "    standardized_x = (x - x_mean) / torch.sqrt(x_var - self.eps)\n",
        "    self.out = self.gamma * standardized_x + self.beta\n",
        "\n",
        "    if self.training:\n",
        "      with torch.no_grad():\n",
        "        self.running_mean = (1 - self.momentum) * self.running_mean + self.momentum * x_mean\n",
        "        self.running_var = (1 - self.momentum) * self.running_var + self.momentum * x_var\n",
        "    return self.out\n",
        "\n",
        "  def parameters(self) -> list[torch.Tensor]:\n",
        "    return [self.gamma, self.beta]\n",
        "\n",
        "class Tanh:\n",
        "\n",
        "  def __call__(self, x: torch.Tensor) -> torch.Tensor:\n",
        "    self.out = torch.tanh(x)\n",
        "    return self.out\n",
        "\n",
        "  def parameters(self) -> list[torch.Tensor]:\n",
        "    return []\n",
        "\n",
        "class Embedding:\n",
        "\n",
        "  def __init__(self, num_embedding, embedding_dim) -> None:\n",
        "    self.weight = torch.randn((num_embedding, embedding_dim))\n",
        "\n",
        "  def __call__(self, IX) -> torch.Tensor:\n",
        "    self.out = self.weight[IX]\n",
        "    return self.out\n",
        "\n",
        "  def parameters(self) -> list[torch.Tensor]:\n",
        "    return [self.weight]\n",
        "\n",
        "class FlattenConsecutive:\n",
        "\n",
        "  def __init__(self, n: int) -> None:\n",
        "    self.n = n\n",
        "\n",
        "  def __call__(self, x) -> torch.Tensor:\n",
        "    # [a,b,c] => [a,b/2,c*2]\n",
        "    # return torch.concat([x[:, ::2, :], x[:, 1::2, :]], dim=2)\n",
        "    B, L, C = x.shape # B(atch), L(ength of context/sequence), C(hannel)\n",
        "    x = x.view(B, L // self.n, C * self.n)\n",
        "    if x.shape[1] == 1:\n",
        "      # x = x.view(B, -1)\n",
        "      x = x.squeeze(1)\n",
        "    self.out = x\n",
        "    return self.out\n",
        "\n",
        "  def parameters(self) -> list[torch.Tensor]:\n",
        "    return []\n",
        "\n",
        "class Sequential:\n",
        "\n",
        "  def __init__(self, layers) -> None:\n",
        "    self.layers = layers\n",
        "\n",
        "  def __call__(self, x):\n",
        "    output = x\n",
        "    for layer in self.layers:\n",
        "      output = layer(output)\n",
        "\n",
        "    return output\n",
        "\n",
        "  def parameters(self) -> list[torch.Tensor]:\n",
        "    return [p for layer in self.layers for p in layer.parameters()]"
      ],
      "metadata": {
        "id": "LMT5Tg-PajhR"
      },
      "execution_count": 142,
      "outputs": []
    },
    {
      "cell_type": "code",
      "source": [
        "torch.manual_seed(42)"
      ],
      "metadata": {
        "colab": {
          "base_uri": "https://localhost:8080/"
        },
        "id": "7ZiLTivkKbDG",
        "outputId": "3d51bd72-e63a-4695-f2ec-fdefb9321351"
      },
      "execution_count": 116,
      "outputs": [
        {
          "output_type": "execute_result",
          "data": {
            "text/plain": [
              "<torch._C.Generator at 0x7e3e6485bdd0>"
            ]
          },
          "metadata": {},
          "execution_count": 116
        }
      ]
    },
    {
      "cell_type": "code",
      "source": [
        "n_embed = 24\n",
        "n_hidden = 128\n",
        "\n",
        "model = Sequential([\n",
        "    Embedding(vocab_size, n_embed),\n",
        "    FlattenConsecutive(2), Linear(n_embed * 2, n_hidden, bias=False), BatchNorm1d(n_hidden), Tanh(),\n",
        "    FlattenConsecutive(2), Linear(n_hidden * 2, n_hidden, bias=False), BatchNorm1d(n_hidden), Tanh(),\n",
        "    FlattenConsecutive(2), Linear(n_hidden * 2, n_hidden, bias=False), BatchNorm1d(n_hidden), Tanh(),\n",
        "    Linear(n_hidden, vocab_size)\n",
        "])\n",
        "\n",
        "with torch.no_grad():\n",
        "  model.layers[-1].weight *= 0.1\n",
        "\n",
        "parameters = model.parameters()\n",
        "print(sum(p.nelement() for p in parameters))\n",
        "\n",
        "for p in parameters:\n",
        "  p.requires_grad = True"
      ],
      "metadata": {
        "colab": {
          "base_uri": "https://localhost:8080/"
        },
        "id": "q3FHq67RKOGN",
        "outputId": "58b44f74-db67-498d-9b94-0c938a82ac39"
      },
      "execution_count": 206,
      "outputs": [
        {
          "output_type": "stream",
          "name": "stdout",
          "text": [
            "76579\n"
          ]
        }
      ]
    },
    {
      "cell_type": "code",
      "source": [
        "ix = torch.randint(0, training_x.shape[0], (4,))\n",
        "x_batch = training_x[ix]\n",
        "y_batch = training_y[ix]\n",
        "logits = model(x_batch)\n",
        "print(x_batch.shape, ix.shape)\n",
        "x_batch"
      ],
      "metadata": {
        "colab": {
          "base_uri": "https://localhost:8080/"
        },
        "id": "xMyVFJUSZu8Z",
        "outputId": "fc498247-d22e-49dd-924b-402e25fcc296"
      },
      "execution_count": 207,
      "outputs": [
        {
          "output_type": "stream",
          "name": "stdout",
          "text": [
            "torch.Size([4, 8]) torch.Size([4])\n"
          ]
        },
        {
          "output_type": "execute_result",
          "data": {
            "text/plain": [
              "tensor([[ 0,  0,  0,  0,  0,  0,  0, 20],\n",
              "        [ 0,  0, 10, 21, 19, 20,  5, 14],\n",
              "        [ 0,  0,  0,  0, 11,  5, 12, 12],\n",
              "        [ 0,  0,  0,  0,  0,  0,  0, 14]])"
            ]
          },
          "metadata": {},
          "execution_count": 207
        }
      ]
    },
    {
      "cell_type": "code",
      "source": [
        "for layer in model.layers:\n",
        "  print(layer.__class__.__name__, \":\", tuple(layer.out.shape))"
      ],
      "metadata": {
        "colab": {
          "base_uri": "https://localhost:8080/"
        },
        "id": "puWbTtc2zElI",
        "outputId": "a144910e-44d1-4a9c-c726-cc672917597e"
      },
      "execution_count": 208,
      "outputs": [
        {
          "output_type": "stream",
          "name": "stdout",
          "text": [
            "Embedding : (4, 8, 24)\n",
            "FlattenConsecutive : (4, 4, 48)\n",
            "Linear : (4, 4, 128)\n",
            "BatchNorm1d : (4, 4, 128)\n",
            "Tanh : (4, 4, 128)\n",
            "FlattenConsecutive : (4, 2, 256)\n",
            "Linear : (4, 2, 128)\n",
            "BatchNorm1d : (4, 2, 128)\n",
            "Tanh : (4, 2, 128)\n",
            "FlattenConsecutive : (4, 256)\n",
            "Linear : (4, 128)\n",
            "BatchNorm1d : (4, 128)\n",
            "Tanh : (4, 128)\n",
            "Linear : (4, 27)\n"
          ]
        }
      ]
    },
    {
      "cell_type": "code",
      "source": [
        "max_steps = 50000\n",
        "batch_size = 32\n",
        "losses = []\n",
        "\n",
        "for i in range(max_steps):\n",
        "  # Minibatch construct.\n",
        "  indexes = torch.randint(0, training_x.shape[0], (batch_size, ))\n",
        "  batch_x = training_x[indexes]\n",
        "  batch_y = training_y[indexes]\n",
        "\n",
        "  # Forward pass.\n",
        "  logits = model(batch_x)\n",
        "  loss = F.cross_entropy(logits, batch_y)\n",
        "\n",
        "  # Backward pass.\n",
        "  for p in parameters:\n",
        "    p.grad = None\n",
        "  loss.backward()\n",
        "\n",
        "  lr = 0.1 if i < max_steps * 0.75 else 0.01\n",
        "  for p in parameters:\n",
        "    p.data += -lr * p.grad\n",
        "\n",
        "  if i % 10000 == 0:\n",
        "    print(f'{i:7d}/{max_steps:7d}: {loss.item():.4f}')\n",
        "  losses.append(loss.log10().item())\n",
        "\n",
        "  # break"
      ],
      "metadata": {
        "colab": {
          "base_uri": "https://localhost:8080/"
        },
        "id": "lVMLUU3NK_bU",
        "outputId": "f6219212-7f59-4f5b-b53c-aecdbf63b768"
      },
      "execution_count": 209,
      "outputs": [
        {
          "output_type": "stream",
          "name": "stdout",
          "text": [
            "      0/  50000: 3.3000\n",
            "  10000/  50000: 2.1818\n",
            "  20000/  50000: 2.0569\n",
            "  30000/  50000: 2.1737\n",
            "  40000/  50000: 2.0727\n"
          ]
        }
      ]
    },
    {
      "cell_type": "code",
      "source": [
        "plt.plot(torch.tensor(losses).view(-1, 1000).mean(1))"
      ],
      "metadata": {
        "colab": {
          "base_uri": "https://localhost:8080/",
          "height": 448
        },
        "id": "m01P6P6NRFm9",
        "outputId": "657e52d0-2390-4918-e076-498a0d21098f"
      },
      "execution_count": 210,
      "outputs": [
        {
          "output_type": "execute_result",
          "data": {
            "text/plain": [
              "[<matplotlib.lines.Line2D at 0x7e3d71516c60>]"
            ]
          },
          "metadata": {},
          "execution_count": 210
        },
        {
          "output_type": "display_data",
          "data": {
            "text/plain": [
              "<Figure size 640x480 with 1 Axes>"
            ],
            "image/png": "[encoded data removed]"
          },
          "metadata": {}
        }
      ]
    },
    {
      "cell_type": "code",
      "source": [
        "for layer in model.layers:\n",
        "  layer.training = False"
      ],
      "metadata": {
        "id": "jno7npBDMgxj"
      },
      "execution_count": 211,
      "outputs": []
    },
    {
      "cell_type": "code",
      "source": [
        "@torch.no_grad()\n",
        "def split_loss(split: str):\n",
        "  x, y = {\n",
        "      'train': (training_x, training_y),\n",
        "      'val': (validation_x, validation_y),\n",
        "      'test': (test_x, test_y),\n",
        "  }[split]\n",
        "\n",
        "  logits = model(x)\n",
        "  # print(logits)\n",
        "  loss = F.cross_entropy(logits, y)\n",
        "  print(split, loss.item())\n",
        "\n",
        "split_loss('train')\n",
        "split_loss('val')\n",
        "split_loss('test')"
      ],
      "metadata": {
        "colab": {
          "base_uri": "https://localhost:8080/"
        },
        "id": "_EV63dfsMlGg",
        "outputId": "7f807295-9780-48ce-c756-bf6f469ad2dd"
      },
      "execution_count": 212,
      "outputs": [
        {
          "output_type": "stream",
          "name": "stdout",
          "text": [
            "train 1.9061310291290283\n",
            "val 2.0053839683532715\n",
            "test 2.0002455711364746\n"
          ]
        }
      ]
    },
    {
      "cell_type": "code",
      "source": [
        "for _ in range(20):\n",
        "\n",
        "    out = []\n",
        "    context = [0] * block_size # initialize with all ...\n",
        "    while True:\n",
        "      # forward pass the neural net\n",
        "      logits = model(torch.tensor([context]))\n",
        "      probs = F.softmax(logits, dim=1)\n",
        "      # sample from the distribution\n",
        "      ix = torch.multinomial(probs, num_samples=1).item()\n",
        "      # shift the context window and track the samples\n",
        "      context = context[1:] + [ix]\n",
        "      out.append(ix)\n",
        "      # if we sample the special '.' token, break\n",
        "      if ix == 0:\n",
        "        break\n",
        "\n",
        "    print(''.join(itos[i] for i in out)) # decode and print the generated word"
      ],
      "metadata": {
        "colab": {
          "base_uri": "https://localhost:8080/"
        },
        "id": "yEwvAfTVNfzs",
        "outputId": "4e1121c3-339a-47d6-c45e-f72836d8e193"
      },
      "execution_count": 213,
      "outputs": [
        {
          "output_type": "stream",
          "name": "stdout",
          "text": [
            "mesli.\n",
            "leviata.\n",
            "liney.\n",
            "selaijah.\n",
            "emik.\n",
            "tailine.\n",
            "dayyin.\n",
            "karryn.\n",
            "hendree.\n",
            "omavie.\n",
            "brenny.\n",
            "sanvie.\n",
            "lamyah.\n",
            "chenico.\n",
            "sedrakin.\n",
            "unniver.\n",
            "ediandra.\n",
            "xia.\n",
            "eddan.\n",
            "conne.\n"
          ]
        }
      ]
    },
    {
      "cell_type": "code",
      "source": [
        "a = torch.tensor([[[1,2,3],[4,5,6],[7,8,9],[10,11,12]]])\n",
        "print(a.shape)\n",
        "print(a[:, ::2, :].shape)\n",
        "print(torch.concat([a[:, ::2, :], a[:, 1::2, :]], dim=2))"
      ],
      "metadata": {
        "colab": {
          "base_uri": "https://localhost:8080/"
        },
        "id": "JRCrfQtwOLXS",
        "outputId": "3d8be70b-ca36-472b-d766-22cd3cd34f46"
      },
      "execution_count": 81,
      "outputs": [
        {
          "output_type": "stream",
          "name": "stdout",
          "text": [
            "torch.Size([1, 4, 3])\n",
            "torch.Size([1, 2, 3])\n",
            "tensor([[[ 1,  2,  3,  4,  5,  6],\n",
            "         [ 7,  8,  9, 10, 11, 12]]])\n"
          ]
        }
      ]
    },
    {
      "cell_type": "code",
      "source": [],
      "metadata": {
        "id": "JSKHiSmPfPMW"
      },
      "execution_count": null,
      "outputs": []
    }
  ]
}