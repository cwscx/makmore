{
  "nbformat": 4,
  "nbformat_minor": 0,
  "metadata": {
    "colab": {
      "provenance": [],
      "authorship_tag": "ABX9TyMvKgm8X/+edQXDoegt3yEM",
      "include_colab_link": true
    },
    "kernelspec": {
      "name": "python3",
      "display_name": "Python 3"
    },
    "language_info": {
      "name": "python"
    }
  },
  "cells": [
    {
      "cell_type": "markdown",
      "metadata": {
        "id": "view-in-github",
        "colab_type": "text"
      },
      "source": [
        "<a href=\"https://colab.research.google.com/github/cwscx/makmore/blob/main/makemore_part5.ipynb\" target=\"_parent\"><img src=\"https://colab.research.google.com/assets/colab-badge.svg\" alt=\"Open In Colab\"/></a>"
      ]
    },
    {
      "cell_type": "code",
      "execution_count": 1,
      "metadata": {
        "id": "IYqa2cMDaGhA"
      },
      "outputs": [],
      "source": [
        "import torch\n",
        "import torch.nn.functional as F\n",
        "import matplotlib.pyplot as plt\n",
        "%matplotlib inline"
      ]
    },
    {
      "cell_type": "code",
      "source": [
        "# from google.colab import files\n",
        "# uploaded = files.upload()"
      ],
      "metadata": {
        "id": "ijjiZ5HyaQiF"
      },
      "execution_count": 2,
      "outputs": []
    },
    {
      "cell_type": "code",
      "source": [
        "words: list[str] = open('names.txt', 'r').read().splitlines()"
      ],
      "metadata": {
        "id": "N238Ij7jaRo-"
      },
      "execution_count": 3,
      "outputs": []
    },
    {
      "cell_type": "code",
      "source": [
        "stoi: dict[str, int] = {c:i for i, c in enumerate('.abcdefghijklmnopqrstuvwxyz')}\n",
        "itos: dict[int, str] = {i:c for c, i in stoi.items()}\n",
        "vocab_size = len(stoi)"
      ],
      "metadata": {
        "id": "w5E9APkBaWVQ"
      },
      "execution_count": 4,
      "outputs": []
    },
    {
      "cell_type": "code",
      "source": [
        "import random\n",
        "random.seed(42)\n",
        "random.shuffle(words)"
      ],
      "metadata": {
        "id": "OTpTjf2saXj7"
      },
      "execution_count": 5,
      "outputs": []
    },
    {
      "cell_type": "code",
      "source": [
        "block_size = 3\n",
        "\n",
        "def build_dataset(words: list[str]) -> tuple[torch.Tensor, torch.Tensor]:\n",
        "  inputs_list: list[list[int]] = []\n",
        "  labels_list: list[int] = []\n",
        "\n",
        "  for w in words:\n",
        "    inputs: list[int] = [0] * block_size\n",
        "    for c in w + '.':\n",
        "      index: int = stoi[c]\n",
        "      inputs_list.append(inputs)\n",
        "      labels_list.append(index)\n",
        "      inputs = inputs[1:] + [index]\n",
        "\n",
        "  return torch.tensor(inputs_list), torch.tensor(labels_list)\n",
        "\n",
        "threshold1: int = int(0.8 * len(words))\n",
        "threshold2: int = int(0.9 * len(words))\n",
        "\n",
        "training_x, training_y = build_dataset(words[:threshold1])\n",
        "validation_x, validation_y = build_dataset(words[threshold1:threshold2])\n",
        "test_x, test_y = build_dataset(words[threshold2:])"
      ],
      "metadata": {
        "id": "lqVFTfq1abDy"
      },
      "execution_count": 6,
      "outputs": []
    },
    {
      "cell_type": "code",
      "source": [
        "\n",
        "class Linear:\n",
        "\n",
        "  def __init__(self, fan_in: int, fan_out: int, bias: bool=True) -> None:\n",
        "    self.weight: torch.Tensor = torch.randn((fan_in, fan_out)) / fan_in ** 0.5\n",
        "    self.bias: torch.Tensor | None = torch.zeros(fan_out) if bias else None\n",
        "\n",
        "  def __call__(self, x: torch.Tensor) -> torch.Tensor:\n",
        "    self.out: torch.Tensor = x @ self.weight\n",
        "    if self.bias is not None:\n",
        "      self.out += self.bias\n",
        "    return self.out\n",
        "\n",
        "  def parameters(self) -> list[torch.Tensor]:\n",
        "    return [self.weight] + ([] if self.bias is None else [self.bias])\n",
        "\n",
        "\n",
        "class BatchNorm1d:\n",
        "\n",
        "  def __init__(self, dim: int, eps: float=1e-5, momentum: float=0.1) -> None:\n",
        "    self.eps = eps\n",
        "    self.momentum = momentum\n",
        "    self.training = True\n",
        "    # parameters.\n",
        "    self.gamma = torch.ones(dim)\n",
        "    self.beta = torch.zeros(dim)\n",
        "    # buffers\n",
        "    self.running_mean = torch.zeros(dim)\n",
        "    self.running_var = torch.ones(dim)\n",
        "\n",
        "  def __call__(self, x: torch.Tensor) -> torch.Tensor:\n",
        "    if (self.training):\n",
        "      x_mean = x.mean(0, keepdim=True)\n",
        "      x_var = x.var(0, keepdim=True, unbiased=True)\n",
        "    else:\n",
        "      x_mean = self.running_mean\n",
        "      x_var = self.running_var\n",
        "\n",
        "    standardized_x = (x - x_mean) / torch.sqrt(x_var - self.eps)\n",
        "    self.out = self.gamma * standardized_x + self.beta\n",
        "\n",
        "    if self.training:\n",
        "      with torch.no_grad():\n",
        "        self.running_mean = (1 - self.momentum) * self.running_mean + self.momentum * x_mean\n",
        "        self.running_var = (1 - self.momentum) * self.running_var + self.momentum * x_var\n",
        "    return self.out\n",
        "\n",
        "  def parameters(self) -> list[torch.Tensor]:\n",
        "    return [self.gamma, self.beta]\n",
        "\n",
        "class Tanh:\n",
        "\n",
        "  def __call__(self, x: torch.Tensor) -> torch.Tensor:\n",
        "    self.out = torch.tanh(x)\n",
        "    return self.out\n",
        "\n",
        "  def parameters(self) -> list[torch.Tensor]:\n",
        "    return []"
      ],
      "metadata": {
        "id": "LMT5Tg-PajhR"
      },
      "execution_count": 7,
      "outputs": []
    },
    {
      "cell_type": "code",
      "source": [
        "torch.manual_seed(42)"
      ],
      "metadata": {
        "colab": {
          "base_uri": "https://localhost:8080/"
        },
        "id": "7ZiLTivkKbDG",
        "outputId": "f5d7df36-6e42-40d7-9d02-e9ad330abe2d"
      },
      "execution_count": 8,
      "outputs": [
        {
          "output_type": "execute_result",
          "data": {
            "text/plain": [
              "<torch._C.Generator at 0x7e3e6485bdd0>"
            ]
          },
          "metadata": {},
          "execution_count": 8
        }
      ]
    },
    {
      "cell_type": "code",
      "source": [
        "n_embed = 10\n",
        "n_hidden = 200\n",
        "\n",
        "C = torch.randn((vocab_size, n_embed))\n",
        "layers = [\n",
        "    Linear(n_embed * block_size, n_hidden, bias=False), BatchNorm1d(n_hidden), Tanh(),\n",
        "    # Linear(n_hidden, n_hidden),             BatchNorm1d(n_hidden), Tanh(),\n",
        "    # Linear(n_hidden, n_hidden),             BatchNorm1d(n_hidden), Tanh(),\n",
        "    # Linear(n_hidden, n_hidden),             BatchNorm1d(n_hidden), Tanh(),\n",
        "    # Linear(n_hidden, n_hidden),             BatchNorm1d(n_hidden), Tanh(),\n",
        "    Linear(n_hidden, vocab_size)\n",
        "]\n",
        "\n",
        "with torch.no_grad():\n",
        "  layers[-1].weight *= 0.1\n",
        "\n",
        "parameters = [C] + [p for layer in layers for p in layer.parameters()]\n",
        "print(sum(p.nelement() for p in parameters))\n",
        "\n",
        "for p in parameters:\n",
        "  p.requires_grad = True"
      ],
      "metadata": {
        "colab": {
          "base_uri": "https://localhost:8080/"
        },
        "id": "q3FHq67RKOGN",
        "outputId": "e9b0cfc4-40d2-4bf0-db02-175f021cfec0"
      },
      "execution_count": 9,
      "outputs": [
        {
          "output_type": "stream",
          "name": "stdout",
          "text": [
            "12097\n"
          ]
        }
      ]
    },
    {
      "cell_type": "code",
      "source": [
        "max_steps = 200000\n",
        "batch_size = 32\n",
        "losses = []\n",
        "\n",
        "for i in range(max_steps):\n",
        "\n",
        "  indexes = torch.randint(0, training_x.shape[0], (batch_size, ))\n",
        "  batch_x = training_x[indexes]\n",
        "  batch_y = training_y[indexes]\n",
        "\n",
        "  embedding = C[batch_x]\n",
        "  x = embedding.view(embedding.shape[0], -1)\n",
        "  for layer in layers:\n",
        "    x = layer(x)\n",
        "\n",
        "  loss = F.cross_entropy(x, batch_y)\n",
        "\n",
        "  for p in parameters:\n",
        "    p.grad = None\n",
        "\n",
        "  loss.backward()\n",
        "\n",
        "  lr = 0.1 if i < max_steps * 0.75 else 0.01\n",
        "  for p in parameters:\n",
        "    p.data += -lr * p.grad\n",
        "\n",
        "  if i % 10000 == 0:\n",
        "    print(f'{i:7d}/{max_steps:7d}: {loss.item():.4f}')\n",
        "  losses.append(loss.log10().item())"
      ],
      "metadata": {
        "colab": {
          "base_uri": "https://localhost:8080/"
        },
        "id": "lVMLUU3NK_bU",
        "outputId": "4197c55d-bb03-45d4-c5b0-811274561a37"
      },
      "execution_count": 10,
      "outputs": [
        {
          "output_type": "stream",
          "name": "stdout",
          "text": [
            "      0/ 200000: 3.2966\n",
            "  10000/ 200000: 2.2322\n",
            "  20000/ 200000: 2.4111\n",
            "  30000/ 200000: 2.1004\n",
            "  40000/ 200000: 2.3157\n",
            "  50000/ 200000: 2.2104\n",
            "  60000/ 200000: 1.9653\n",
            "  70000/ 200000: 1.9767\n",
            "  80000/ 200000: 2.6738\n",
            "  90000/ 200000: 2.0837\n",
            " 100000/ 200000: 2.2730\n",
            " 110000/ 200000: 1.7491\n",
            " 120000/ 200000: 2.2891\n",
            " 130000/ 200000: 2.3443\n",
            " 140000/ 200000: 2.1731\n",
            " 150000/ 200000: 1.8246\n",
            " 160000/ 200000: 1.7614\n",
            " 170000/ 200000: 2.2419\n",
            " 180000/ 200000: 2.0803\n",
            " 190000/ 200000: 2.1326\n"
          ]
        }
      ]
    },
    {
      "cell_type": "code",
      "source": [
        "plt.plot(losses)"
      ],
      "metadata": {
        "colab": {
          "base_uri": "https://localhost:8080/",
          "height": 448
        },
        "id": "6ndRMQVJMfkQ",
        "outputId": "ca89d974-8b65-43f4-e4f1-49678090120f"
      },
      "execution_count": 11,
      "outputs": [
        {
          "output_type": "execute_result",
          "data": {
            "text/plain": [
              "[<matplotlib.lines.Line2D at 0x7e3db937fd40>]"
            ]
          },
          "metadata": {},
          "execution_count": 11
        },
        {
          "output_type": "display_data",
          "data": {
            "text/plain": [
              "<Figure size 640x480 with 1 Axes>"
            ],
            "image/png": "[encoded data removed]"
          },
          "metadata": {}
        }
      ]
    },
    {
      "cell_type": "code",
      "source": [
        "for layer in layers:\n",
        "  layer.training = False"
      ],
      "metadata": {
        "id": "jno7npBDMgxj"
      },
      "execution_count": 12,
      "outputs": []
    },
    {
      "cell_type": "code",
      "source": [
        "@torch.no_grad()\n",
        "def split_loss(split: str):\n",
        "  x, y = {\n",
        "      'train': (training_x, training_y),\n",
        "      'val': (validation_x, validation_y),\n",
        "      'test': (test_x, test_y),\n",
        "  }[split]\n",
        "\n",
        "  embedding = C[x]\n",
        "  x = embedding.view(embedding.shape[0], -1)\n",
        "  for layer in layers:\n",
        "    x = layer(x)\n",
        "\n",
        "  loss = F.cross_entropy(x, y)\n",
        "  print(split, loss.item())\n",
        "\n",
        "split_loss('train')\n",
        "split_loss('val')\n",
        "split_loss('test')"
      ],
      "metadata": {
        "colab": {
          "base_uri": "https://localhost:8080/"
        },
        "id": "_EV63dfsMlGg",
        "outputId": "1909471f-6a3b-47bc-d76a-ce56c8633324"
      },
      "execution_count": 13,
      "outputs": [
        {
          "output_type": "stream",
          "name": "stdout",
          "text": [
            "train 2.0583255290985107\n",
            "val 2.1065289974212646\n",
            "test 2.1046242713928223\n"
          ]
        }
      ]
    },
    {
      "cell_type": "code",
      "source": [
        "for _ in range(20):\n",
        "  input = [0] * block_size\n",
        "  out = []\n",
        "  while True:\n",
        "    emb = C[torch.tensor([input])]\n",
        "    x = emb.view(emb.shape[0], -1)\n",
        "    for layer in layers:\n",
        "      x = layer(x)\n",
        "    loss = F.softmax(x, dim=1)\n",
        "    index = int(torch.multinomial(loss, num_samples=1).item())\n",
        "    ch = itos[index]\n",
        "    out.append(ch)\n",
        "    input = input[1:] + [index]\n",
        "\n",
        "    if index == 0:\n",
        "      break\n",
        "  print(''.join(out))\n"
      ],
      "metadata": {
        "colab": {
          "base_uri": "https://localhost:8080/"
        },
        "id": "yEwvAfTVNfzs",
        "outputId": "f72d9ad2-1428-4496-fa1b-842dcd161e4b"
      },
      "execution_count": 29,
      "outputs": [
        {
          "output_type": "stream",
          "name": "stdout",
          "text": [
            "ivon.\n",
            "fanili.\n",
            "thoommara.\n",
            "kelo.\n",
            "matyn.\n",
            "leandr.\n",
            "aleigh.\n",
            "koldeniah.\n",
            "prus.\n",
            "carleen.\n",
            "jah.\n",
            "jorra.\n",
            "alaya.\n",
            "shonan.\n",
            "vishylaharia.\n",
            "juna.\n",
            "vio.\n",
            "orven.\n",
            "mina.\n",
            "laylee.\n"
          ]
        }
      ]
    },
    {
      "cell_type": "code",
      "source": [],
      "metadata": {
        "id": "JRCrfQtwOLXS"
      },
      "execution_count": null,
      "outputs": []
    }
  ]
}