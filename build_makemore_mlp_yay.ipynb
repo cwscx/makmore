{
  "nbformat": 4,
  "nbformat_minor": 0,
  "metadata": {
    "colab": {
      "provenance": [],
      "authorship_tag": "ABX9TyPzIoXmzhE1DcLo9/5S9zwC",
      "include_colab_link": true
    },
    "kernelspec": {
      "name": "python3",
      "display_name": "Python 3"
    },
    "language_info": {
      "name": "python"
    }
  },
  "cells": [
    {
      "cell_type": "markdown",
      "metadata": {
        "id": "view-in-github",
        "colab_type": "text"
      },
      "source": [
        "<a href=\"https://colab.research.google.com/github/cwscx/makmore/blob/main/build_makemore_mlp_yay.ipynb\" target=\"_parent\"><img src=\"https://colab.research.google.com/assets/colab-badge.svg\" alt=\"Open In Colab\"/></a>"
      ]
    },
    {
      "cell_type": "code",
      "execution_count": 475,
      "metadata": {
        "id": "wsqNMXtSr2BY"
      },
      "outputs": [],
      "source": [
        "import torch\n",
        "import torch.nn.functional as F\n",
        "import matplotlib.pyplot as plt\n",
        "%matplotlib inline"
      ]
    },
    {
      "cell_type": "code",
      "source": [
        "# from google.colab import files\n",
        "# uploaded = files.upload()"
      ],
      "metadata": {
        "id": "BnqyyPMIsYaw"
      },
      "execution_count": 476,
      "outputs": []
    },
    {
      "cell_type": "code",
      "source": [
        "words = open('names.txt', 'r').read().splitlines()"
      ],
      "metadata": {
        "id": "3HxV-dvfsfZZ"
      },
      "execution_count": 477,
      "outputs": []
    },
    {
      "cell_type": "code",
      "source": [
        "len(words)"
      ],
      "metadata": {
        "colab": {
          "base_uri": "https://localhost:8080/"
        },
        "id": "w6LgdXDCsnve",
        "outputId": "d49cd3ec-6b73-4b4e-e9cb-e8d9f800a7a4"
      },
      "execution_count": 478,
      "outputs": [
        {
          "output_type": "execute_result",
          "data": {
            "text/plain": [
              "32033"
            ]
          },
          "metadata": {},
          "execution_count": 478
        }
      ]
    },
    {
      "cell_type": "code",
      "source": [
        "stoi = {c:i for i,c in enumerate('.abcdefghijklmnopqrstuvwxyz')}\n",
        "itos = {i:c for i,c in enumerate(stoi)}\n",
        "print(stoi)\n",
        "print(itos)"
      ],
      "metadata": {
        "colab": {
          "base_uri": "https://localhost:8080/"
        },
        "id": "QBvOjhD4spTC",
        "outputId": "a30c371e-d9df-481e-bd03-eb7467b6b955"
      },
      "execution_count": 479,
      "outputs": [
        {
          "output_type": "stream",
          "name": "stdout",
          "text": [
            "{'.': 0, 'a': 1, 'b': 2, 'c': 3, 'd': 4, 'e': 5, 'f': 6, 'g': 7, 'h': 8, 'i': 9, 'j': 10, 'k': 11, 'l': 12, 'm': 13, 'n': 14, 'o': 15, 'p': 16, 'q': 17, 'r': 18, 's': 19, 't': 20, 'u': 21, 'v': 22, 'w': 23, 'x': 24, 'y': 25, 'z': 26}\n",
            "{0: '.', 1: 'a', 2: 'b', 3: 'c', 4: 'd', 5: 'e', 6: 'f', 7: 'g', 8: 'h', 9: 'i', 10: 'j', 11: 'k', 12: 'l', 13: 'm', 14: 'n', 15: 'o', 16: 'p', 17: 'q', 18: 'r', 19: 's', 20: 't', 21: 'u', 22: 'v', 23: 'w', 24: 'x', 25: 'y', 26: 'z'}\n"
          ]
        }
      ]
    },
    {
      "cell_type": "code",
      "source": [
        " block_size = 3 # context length: how many chars to take in for prediction\n",
        " X, Y = [], []\n",
        " for w in words:\n",
        "  # print(w)\n",
        "  context = [0] * block_size\n",
        "  for ch in w + '.':\n",
        "    index = stoi[ch]\n",
        "    X.append(context)\n",
        "    Y.append(index)\n",
        "    # print(''.join(itos[i] for i in context), '---->', itos[index])\n",
        "    context = context[1:] + [index]\n",
        "\n",
        "X = torch.tensor(X)\n",
        "Y = torch.tensor(Y)"
      ],
      "metadata": {
        "id": "hhLUFO5TtK-y"
      },
      "execution_count": 480,
      "outputs": []
    },
    {
      "cell_type": "code",
      "source": [
        "X.shape, Y.shape"
      ],
      "metadata": {
        "colab": {
          "base_uri": "https://localhost:8080/"
        },
        "id": "Gbde8XQbxkIV",
        "outputId": "47ba128d-ce6d-492a-f918-129f51280d9a"
      },
      "execution_count": 577,
      "outputs": [
        {
          "output_type": "execute_result",
          "data": {
            "text/plain": [
              "(torch.Size([228146, 3]), torch.Size([228146]))"
            ]
          },
          "metadata": {},
          "execution_count": 577
        }
      ]
    },
    {
      "cell_type": "code",
      "source": [
        "def build_dataset(words) -> tuple[torch.Tensor, torch.Tensor]:\n",
        "  block_size = 3 # context length: how many chars to take in for prediction\n",
        "  X, Y = [], []\n",
        "  for w in words:\n",
        "    # print(w)\n",
        "    context = [0] * block_size\n",
        "    for ch in w + '.':\n",
        "      index = stoi[ch]\n",
        "      X.append(context)\n",
        "      Y.append(index)\n",
        "      context = context[1:] + [index]\n",
        "\n",
        "  X = torch.tensor(X)\n",
        "  Y = torch.tensor(Y)\n",
        "  return X,Y\n",
        "\n",
        "import random\n",
        "random.seed(42)\n",
        "random.shuffle(words)\n",
        "n1 = int(0.8*len(words))\n",
        "n2 = int(0.9*len(words))\n",
        "\n",
        "training_x, training_y = build_dataset(words[:n1])\n",
        "dev_x, dev_y = build_dataset(words[n1:n2])\n",
        "test_x, test_y = build_dataset(words[n2:])"
      ],
      "metadata": {
        "id": "g78plkkd-lsv"
      },
      "execution_count": 582,
      "outputs": []
    },
    {
      "cell_type": "code",
      "source": [
        "C = torch.randn((27, 2))"
      ],
      "metadata": {
        "id": "pjx7CRFrzYT3"
      },
      "execution_count": 482,
      "outputs": []
    },
    {
      "cell_type": "code",
      "source": [
        "embedding = C[X]\n",
        "embedding.shape"
      ],
      "metadata": {
        "colab": {
          "base_uri": "https://localhost:8080/"
        },
        "id": "7ahGPFKw7oW2",
        "outputId": "4771bfd3-a0fc-4990-c60b-7dd4b944b9c8"
      },
      "execution_count": 483,
      "outputs": [
        {
          "output_type": "execute_result",
          "data": {
            "text/plain": [
              "torch.Size([228146, 3, 2])"
            ]
          },
          "metadata": {},
          "execution_count": 483
        }
      ]
    },
    {
      "cell_type": "code",
      "source": [
        "W1 = torch.randn((6, 100)) # 100 nerouns\n",
        "b1 = torch.rand((100))"
      ],
      "metadata": {
        "id": "FzKDm_tl74yc"
      },
      "execution_count": 484,
      "outputs": []
    },
    {
      "cell_type": "code",
      "source": [
        "torch.cat([embedding[:, 0, :], embedding[:, 1, :], embedding[:, 2, :]], 1).shape # torch.cat([32x2, 32x2, 32x2]) => [32x6]"
      ],
      "metadata": {
        "colab": {
          "base_uri": "https://localhost:8080/"
        },
        "id": "1kY81wSI8YMy",
        "outputId": "c09c14d2-c14a-4643-91e9-8da3dd363cbb"
      },
      "execution_count": 485,
      "outputs": [
        {
          "output_type": "execute_result",
          "data": {
            "text/plain": [
              "torch.Size([228146, 6])"
            ]
          },
          "metadata": {},
          "execution_count": 485
        }
      ]
    },
    {
      "cell_type": "code",
      "source": [
        "torch.concat(torch.unbind(embedding, 1), 1)"
      ],
      "metadata": {
        "colab": {
          "base_uri": "https://localhost:8080/"
        },
        "id": "g5w4CZiJE1xF",
        "outputId": "2d5ee5e8-bcd2-4559-ab00-7da4b890cd9b"
      },
      "execution_count": 486,
      "outputs": [
        {
          "output_type": "execute_result",
          "data": {
            "text/plain": [
              "tensor([[ 0.7083,  1.1786,  0.7083,  1.1786,  0.7083,  1.1786],\n",
              "        [ 0.7083,  1.1786,  0.7083,  1.1786,  1.0948, -0.5675],\n",
              "        [ 0.7083,  1.1786,  1.0948, -0.5675, -0.5773, -1.2102],\n",
              "        ...,\n",
              "        [-2.7195, -0.2294, -2.7195, -0.2294,  0.4173,  0.2545],\n",
              "        [-2.7195, -0.2294,  0.4173,  0.2545, -2.7195, -0.2294],\n",
              "        [ 0.4173,  0.2545, -2.7195, -0.2294, -1.3340, -0.5447]])"
            ]
          },
          "metadata": {},
          "execution_count": 486
        }
      ]
    },
    {
      "cell_type": "code",
      "source": [
        "a = torch.arange(18)\n",
        "a"
      ],
      "metadata": {
        "colab": {
          "base_uri": "https://localhost:8080/"
        },
        "id": "TApAgW_kE3WW",
        "outputId": "e9e15e6e-f5e8-477a-f6ec-67b9924cc4f2"
      },
      "execution_count": 487,
      "outputs": [
        {
          "output_type": "execute_result",
          "data": {
            "text/plain": [
              "tensor([ 0,  1,  2,  3,  4,  5,  6,  7,  8,  9, 10, 11, 12, 13, 14, 15, 16, 17])"
            ]
          },
          "metadata": {},
          "execution_count": 487
        }
      ]
    },
    {
      "cell_type": "code",
      "source": [
        "a.view([3,3,2])"
      ],
      "metadata": {
        "colab": {
          "base_uri": "https://localhost:8080/"
        },
        "id": "f4q2LETnFIIm",
        "outputId": "3cdec8d0-2a96-4fce-ef98-e5c8f58819f4"
      },
      "execution_count": 488,
      "outputs": [
        {
          "output_type": "execute_result",
          "data": {
            "text/plain": [
              "tensor([[[ 0,  1],\n",
              "         [ 2,  3],\n",
              "         [ 4,  5]],\n",
              "\n",
              "        [[ 6,  7],\n",
              "         [ 8,  9],\n",
              "         [10, 11]],\n",
              "\n",
              "        [[12, 13],\n",
              "         [14, 15],\n",
              "         [16, 17]]])"
            ]
          },
          "metadata": {},
          "execution_count": 488
        }
      ]
    },
    {
      "cell_type": "code",
      "source": [
        "a.storage()  # one-direcional vector stored in memory"
      ],
      "metadata": {
        "colab": {
          "base_uri": "https://localhost:8080/"
        },
        "id": "WqpI179GFN98",
        "outputId": "404e166b-4a3f-4f65-995e-78d8815f5319"
      },
      "execution_count": 489,
      "outputs": [
        {
          "output_type": "execute_result",
          "data": {
            "text/plain": [
              " 0\n",
              " 1\n",
              " 2\n",
              " 3\n",
              " 4\n",
              " 5\n",
              " 6\n",
              " 7\n",
              " 8\n",
              " 9\n",
              " 10\n",
              " 11\n",
              " 12\n",
              " 13\n",
              " 14\n",
              " 15\n",
              " 16\n",
              " 17\n",
              "[torch.storage.TypedStorage(dtype=torch.int64, device=cpu) of size 18]"
            ]
          },
          "metadata": {},
          "execution_count": 489
        }
      ]
    },
    {
      "cell_type": "code",
      "source": [
        "embedding.view(X.shape[0], 6) == torch.concat(torch.unbind(embedding, 1), 1)"
      ],
      "metadata": {
        "colab": {
          "base_uri": "https://localhost:8080/"
        },
        "id": "AaKqgMQ2Flwc",
        "outputId": "3256b8bc-2fca-41cc-d17f-42592e122b92"
      },
      "execution_count": 490,
      "outputs": [
        {
          "output_type": "execute_result",
          "data": {
            "text/plain": [
              "tensor([[True, True, True, True, True, True],\n",
              "        [True, True, True, True, True, True],\n",
              "        [True, True, True, True, True, True],\n",
              "        ...,\n",
              "        [True, True, True, True, True, True],\n",
              "        [True, True, True, True, True, True],\n",
              "        [True, True, True, True, True, True]])"
            ]
          },
          "metadata": {},
          "execution_count": 490
        }
      ]
    },
    {
      "cell_type": "code",
      "source": [
        "h = embedding.view(X.shape[0],6) @ W1 + b1"
      ],
      "metadata": {
        "id": "n6Q60x7lGDyW"
      },
      "execution_count": 491,
      "outputs": []
    },
    {
      "cell_type": "code",
      "source": [
        " W2 = torch.randn((100, 27))\n",
        " b2 = torch.randn(27)"
      ],
      "metadata": {
        "id": "CTWkB7gLGYJi"
      },
      "execution_count": 492,
      "outputs": []
    },
    {
      "cell_type": "code",
      "source": [
        "logits = h @ W2 + b2\n",
        "count = logits.exp()\n",
        "probs = count / count.sum(dim=1, keepdims=True)"
      ],
      "metadata": {
        "id": "i9rab8w5Ifvc"
      },
      "execution_count": 493,
      "outputs": []
    },
    {
      "cell_type": "code",
      "source": [
        "probs.shape"
      ],
      "metadata": {
        "colab": {
          "base_uri": "https://localhost:8080/"
        },
        "id": "4Fy8itkYJFeQ",
        "outputId": "e733c7a9-3fd0-4269-b8f7-07550c054417"
      },
      "execution_count": 494,
      "outputs": [
        {
          "output_type": "execute_result",
          "data": {
            "text/plain": [
              "torch.Size([228146, 27])"
            ]
          },
          "metadata": {},
          "execution_count": 494
        }
      ]
    },
    {
      "cell_type": "code",
      "source": [
        "probs[torch.arange(X.shape[0]), Y]"
      ],
      "metadata": {
        "colab": {
          "base_uri": "https://localhost:8080/"
        },
        "id": "6t872l9BJOCy",
        "outputId": "c5641c4b-19fd-430e-9378-5cef7c4a2cb9"
      },
      "execution_count": 495,
      "outputs": [
        {
          "output_type": "execute_result",
          "data": {
            "text/plain": [
              "tensor([1.3270e-19, 5.3781e-27, 1.9518e-19,  ..., 0.0000e+00, 0.0000e+00,\n",
              "        8.9999e-29])"
            ]
          },
          "metadata": {},
          "execution_count": 495
        }
      ]
    },
    {
      "cell_type": "code",
      "source": [
        "loss = -probs[torch.arange(X.shape[0]), Y].log().mean()\n",
        "loss"
      ],
      "metadata": {
        "colab": {
          "base_uri": "https://localhost:8080/"
        },
        "id": "aPvZ4D_xJw3D",
        "outputId": "9603d099-943b-405e-a5ff-f1c5dd7b23b1"
      },
      "execution_count": 496,
      "outputs": [
        {
          "output_type": "execute_result",
          "data": {
            "text/plain": [
              "tensor(nan)"
            ]
          },
          "metadata": {},
          "execution_count": 496
        }
      ]
    },
    {
      "cell_type": "code",
      "source": [
        "training_x.shape, training_y.shape"
      ],
      "metadata": {
        "colab": {
          "base_uri": "https://localhost:8080/"
        },
        "id": "U4Pdwg4VJ33n",
        "outputId": "90b35da3-5c45-4f50-9c0c-ac6daf676ba8"
      },
      "execution_count": 585,
      "outputs": [
        {
          "output_type": "execute_result",
          "data": {
            "text/plain": [
              "(torch.Size([182625, 3]), torch.Size([182625]))"
            ]
          },
          "metadata": {},
          "execution_count": 585
        }
      ]
    },
    {
      "cell_type": "code",
      "source": [
        "lre = torch.linspace(-3, 0, 1000)\n",
        "lrs = 10**lre"
      ],
      "metadata": {
        "id": "qpyjQRIV1gY2"
      },
      "execution_count": 539,
      "outputs": []
    },
    {
      "cell_type": "code",
      "source": [
        "g = torch.Generator().manual_seed(2147483647)\n",
        "C = torch.randn((27, 15), generator=g, requires_grad=True)\n",
        "W1 = torch.randn((45, 200), generator=g, requires_grad=True)\n",
        "b1 = torch.randn(200, generator=g, requires_grad=True)\n",
        "W2 = torch.randn((200, 27), generator=g, requires_grad=True)\n",
        "b2 = torch.randn(27, generator=g, requires_grad=True)\n",
        "parameters = [C, W1, b1, W2, b2]\n",
        "losses = []\n",
        "loglosses = []\n",
        "steps = []"
      ],
      "metadata": {
        "id": "XpDUcCRYKnTz"
      },
      "execution_count": 655,
      "outputs": []
    },
    {
      "cell_type": "code",
      "source": [
        "# for lr in lrs:\n",
        "for i in range(200000):\n",
        "  ## minibatch construct.\n",
        "  ## randomly pick rows to iterate\n",
        "  index = torch.randint(0, training_x.shape[0], (64,))\n",
        "\n",
        "  ## Forward\n",
        "  emb = C[training_x[index]]\n",
        "  h = torch.tanh(emb.view(-1, 45) @ W1 + b1)\n",
        "  logits = h @ W2 + b2\n",
        "  ### The following is exactly the same as cross entropy\n",
        "  # counts = logits.exp()\n",
        "  # probs = counts / counts.sum(dim=1, keepdim=True)\n",
        "  # loss =  -probs[torch.arange(len(X)), Y].log().mean()\n",
        "  ###\n",
        "  loss = F.cross_entropy(logits, training_y[index])\n",
        "\n",
        "  for p in parameters:\n",
        "    p.grad = None\n",
        "\n",
        "  ## Backward\n",
        "  loss.backward()\n",
        "\n",
        "  lr = 0.1 if i < 100000 else 0.01\n",
        "  for p in parameters:\n",
        "     p.data += -lr * p.grad\n",
        "\n",
        "  losses.append(loss.item())\n",
        "  loglosses.append(loss.log10().item())\n",
        "  steps.append(i)\n",
        "\n",
        "print(loss.item())"
      ],
      "metadata": {
        "colab": {
          "base_uri": "https://localhost:8080/"
        },
        "id": "8ibfEuwYLMA9",
        "outputId": "99de8b91-787e-4af8-8b89-7c12379b73ba"
      },
      "execution_count": 657,
      "outputs": [
        {
          "output_type": "stream",
          "name": "stdout",
          "text": [
            "1.8208063840866089\n"
          ]
        }
      ]
    },
    {
      "cell_type": "code",
      "source": [
        "plt.plot(steps, loglosses)"
      ],
      "metadata": {
        "colab": {
          "base_uri": "https://localhost:8080/",
          "height": 448
        },
        "id": "yXF0lxOZ2v3Q",
        "outputId": "de6e7098-2636-42a8-b1ba-d08e4971904a"
      },
      "execution_count": 658,
      "outputs": [
        {
          "output_type": "execute_result",
          "data": {
            "text/plain": [
              "[<matplotlib.lines.Line2D at 0x799afce82510>]"
            ]
          },
          "metadata": {},
          "execution_count": 658
        },
        {
          "output_type": "display_data",
          "data": {
            "text/plain": [
              "<Figure size 640x480 with 1 Axes>"
            ],
            "image/png": "[encoded data removed]"
          },
          "metadata": {}
        }
      ]
    },
    {
      "cell_type": "code",
      "source": [
        "emb = C[training_x]\n",
        "\n",
        "h = torch.tanh(emb.view(-1, 45) @ W1 + b1)\n",
        "logits = h @ W2 + b2\n",
        "loss = F.cross_entropy(logits, training_y)\n",
        "print(loss)\n"
      ],
      "metadata": {
        "colab": {
          "base_uri": "https://localhost:8080/"
        },
        "id": "Lo4Wl_vcAsIo",
        "outputId": "e8c1c1e5-0a38-467a-aae9-b344f5d4a2ec"
      },
      "execution_count": 660,
      "outputs": [
        {
          "output_type": "stream",
          "name": "stdout",
          "text": [
            "tensor(2.0751, grad_fn=<NllLossBackward0>)\n"
          ]
        }
      ]
    },
    {
      "cell_type": "code",
      "source": [
        "emb = C[dev_x]\n",
        "\n",
        "h = torch.tanh(emb.view(-1, 45) @ W1 + b1)\n",
        "logits = h @ W2 + b2\n",
        "loss = F.cross_entropy(logits, dev_y)\n",
        "print(loss)\n"
      ],
      "metadata": {
        "colab": {
          "base_uri": "https://localhost:8080/"
        },
        "id": "RQAnEVliyxyw",
        "outputId": "1f9455e6-f6aa-4aa1-a60c-5348816a9b76"
      },
      "execution_count": 661,
      "outputs": [
        {
          "output_type": "stream",
          "name": "stdout",
          "text": [
            "tensor(2.1404, grad_fn=<NllLossBackward0>)\n"
          ]
        }
      ]
    },
    {
      "cell_type": "code",
      "source": [
        "# training: 80%\n",
        "# dev/validatin split (use to test hyer param: size of of a layer): 10%\n",
        "# test split: 10%\n",
        "#\n",
        "# if the training set loss is roughly the same as dev/test set. Then it means\n",
        "# it is under fit. (nueral net too small). Should increase the size of NN.\n"
      ],
      "metadata": {
        "id": "c9TYEscBz8Jf"
      },
      "execution_count": 644,
      "outputs": []
    },
    {
      "cell_type": "code",
      "source": [
        "plt.figure(figsize=(8,8))\n",
        "plt.scatter(C[:,0].data, C[:,1].data,s=200)\n",
        "for i in range(C.shape[0]):\n",
        "  plt.text(C[i,0].item(), C[i,1].item(), itos[i], ha=\"center\", va=\"center\", color=\"white\")\n",
        "plt.grid(\"minor\")"
      ],
      "metadata": {
        "colab": {
          "base_uri": "https://localhost:8080/",
          "height": 675
        },
        "id": "umjHrPnFCh_A",
        "outputId": "ece9c157-c902-4f9b-c00f-b17bb6434d3d"
      },
      "execution_count": 662,
      "outputs": [
        {
          "output_type": "display_data",
          "data": {
            "text/plain": [
              "<Figure size 800x800 with 1 Axes>"
            ],
            "image/png": "[encoded data removed]"
          },
          "metadata": {}
        }
      ]
    },
    {
      "cell_type": "code",
      "source": [
        "g = torch.Generator().manual_seed(2147483647 + 10)\n",
        "\n",
        "for _ in range(20):\n",
        "  out = []\n",
        "  context = [0] * block_size\n",
        "  while True:\n",
        "    emb = C[torch.tensor(context)]\n",
        "    h = torch.tanh(emb.view(1, -1) @ W1 + b1)\n",
        "    logits = h @ W2 + b2\n",
        "    probs = F.softmax(logits)\n",
        "    index = torch.multinomial(probs, 1, generator=g).item()\n",
        "    context = context[1:] + [index]\n",
        "    out.append(index)\n",
        "    if (index == 0):\n",
        "      break\n",
        "\n",
        "  print(''.join(itos[i] for i in out))"
      ],
      "metadata": {
        "id": "UT6VxO-CHMVZ"
      },
      "execution_count": null,
      "outputs": []
    }
  ]
}